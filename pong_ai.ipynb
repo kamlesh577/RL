{
 "cells": [
  {
   "cell_type": "code",
   "execution_count": 2,
   "metadata": {},
   "outputs": [],
   "source": [
    "import numpy as np \n",
    "#for loading and saving models. Pickling is the process whereby a Python object hierarchy is converted into a byte stream)\n",
    "import cPickle as pickle \n",
    "#OpenAI's library that provides environments to test RL algorithms in, Universe adds\n",
    "#even more environments\n",
    "import gym"
   ]
  },
  {
   "cell_type": "code",
   "execution_count": 3,
   "metadata": {},
   "outputs": [],
   "source": [
    "H = 200 # number of hidden layer neurons\n",
    "batch_size = 10 # every how many episodes to do a param update?\n",
    "learning_rate = 1e-4 #for convergence (too low- slow to converge, too high,never converge)\n",
    "gamma = 0.99 # discount factor for reward (i.e later rewards are exponentially less important)\n",
    "decay_rate = 0.99 # decay factor for RMSProp leaky sum of grad^2\n",
    "resume = False # resume from previous checkpoint?"
   ]
  },
  {
   "cell_type": "code",
   "execution_count": 4,
   "metadata": {},
   "outputs": [],
   "source": [
    "D = 80 * 80 # input dimensionality: 80x80 grid (the pong world)\n",
    "if resume:\n",
    "  model = pickle.load(open('save.p', 'rb')) #load from pickled checkpoint\n",
    "else:\n",
    "  model = {} #initialize model \n",
    "  model['W1'] = np.random.randn(H,D) / np.sqrt(D) # \"Xavier\" initialization\n",
    "  model['W2'] = np.random.randn(H) / np.sqrt(H)\n",
    "  \n",
    "grad_buffer = { k : np.zeros_like(v) for k,v in model.iteritems() } \n",
    "## rmsprop (gradient descent) memory used to update model\n",
    "rmsprop_cache = { k : np.zeros_like(v) for k,v in model.iteritems() } "
   ]
  },
  {
   "cell_type": "code",
   "execution_count": 5,
   "metadata": {},
   "outputs": [],
   "source": [
    "def sigmoid(x): \n",
    "  return 1.0 / (1.0 + np.exp(-x)) # sigmoid \"squashing\" function to interval [0,1]\n",
    "\n",
    "def prepro(I):\n",
    "  \"\"\" prepro 210x160x3 uint8 frame into 6400 (80x80) 1D float vector \"\"\"\n",
    "  I = I[35:195] # crop\n",
    "  I = I[::2,::2,0] # downsample by factor of 2\n",
    "  I[I == 144] = 0 # erase background (background type 1)\n",
    "  I[I == 109] = 0 # erase background (background type 2)\n",
    "  I[I != 0] = 1 # everything else (paddles, ball) just set to 1\n",
    "  return I.astype(np.float).ravel() #flattens "
   ]
  },
  {
   "cell_type": "code",
   "execution_count": 6,
   "metadata": {},
   "outputs": [],
   "source": [
    "def discount_rewards(r):\n",
    "  \n",
    "  discounted_r = np.zeros_like(r)\n",
    "  #to store reward sums\n",
    "  running_add = 0\n",
    "  #for each reward\n",
    "  for t in reversed(xrange(0, r.size)):\n",
    "    #if reward at index t is nonzero, reset the sum, since this was a game boundary (pong specific!)\n",
    "    if r[t] != 0: running_add = 0 \n",
    "    #increment the sum \n",
    "    #https://github.com/hunkim/ReinforcementZeroToAll/issues/1\n",
    "    running_add = running_add * gamma + r[t]\n",
    "    #earlier rewards given more value over time \n",
    "    #assign the calculated sum to our discounted reward matrix\n",
    "    discounted_r[t] = running_add\n",
    "    return discounted_r\n"
   ]
  },
  {
   "cell_type": "code",
   "execution_count": 7,
   "metadata": {},
   "outputs": [],
   "source": [
    "def policy_forward(x):\n",
    "  #matrix multiply input by the first set of weights to get hidden state\n",
    "  #will be able to detect various game scenarios (e.g. the ball is in the top, and our paddle is in the middle)\n",
    "  h = np.dot(model['W1'], x)\n",
    "  #apply an activation function to it\n",
    "  #f(x)=max(0,x) take max value, if less than 0, use 0\n",
    "  h[h<0] = 0 # ReLU nonlinearity\n",
    "  #repeat process once more\n",
    "  #will decide if in each case we should be going UP or DOWN.\n",
    "  logp = np.dot(model['W2'], h)\n",
    "  #squash it with an activation (this time sigmoid to output probabilities)\n",
    "  p = sigmoid(logp)\n",
    "  return p, h"
   ]
  },
  {
   "cell_type": "code",
   "execution_count": 8,
   "metadata": {},
   "outputs": [],
   "source": [
    "def policy_backward(eph, epdlogp):\n",
    "  \"\"\" backward pass. (eph is array of intermediate hidden states) \"\"\"\n",
    "  #recursively compute error derivatives for both layers, this is the chain rule\n",
    "  #epdlopgp modulates the gradient with advantage\n",
    "  #compute updated derivative with respect to weight 2. It's the parameter hidden states transpose * gradient w/ advantage (then flatten with ravel())\n",
    "  dW2 = np.dot(eph.T, epdlogp).ravel()\n",
    "  #Compute derivative hidden. It's the outer product of gradient w/ advatange and weight matrix 2 of 2\n",
    "  dh = np.outer(epdlogp, model['W2'])\n",
    "  #apply activation\n",
    "  dh[eph <= 0] = 0 # backpro prelu\n",
    "  #compute derivative with respect to weight 1 using hidden states transpose and input observation\n",
    "  dW1 = np.dot(dh.T, epx)\n",
    "  #return both derivatives to update weights\n",
    "  return {'W1':dW1, 'W2':dW2}"
   ]
  },
  {
   "cell_type": "code",
   "execution_count": 9,
   "metadata": {},
   "outputs": [],
   "source": [
    "env = gym.make(\"Pong-v0\")\n",
    "\n",
    "observation = env.reset()\n",
    "prev_x = None # used in computing the difference frame\n",
    "#observation, hidden state, gradient, reward\n",
    "xs,hs,dlogps,drs = [],[],[],[]\n",
    "#current reward\n",
    "running_reward = None\n",
    "#sum rewards\n",
    "reward_sum = 0\n",
    "#where are we?\n",
    "episode_number = 0"
   ]
  },
  {
   "cell_type": "code",
   "execution_count": null,
   "metadata": {},
   "outputs": [
    {
     "name": "stdout",
     "output_type": "stream",
     "text": [
      "resetting env. episode reward total was -21.000000. running mean: -21.000000\n",
      "ep 1: game finished, reward: -1.000000\n",
      "resetting env. episode reward total was -21.000000. running mean: -21.000000\n",
      "ep 2: game finished, reward: -1.000000\n",
      "resetting env. episode reward total was -21.000000. running mean: -21.000000\n",
      "ep 3: game finished, reward: -1.000000\n",
      "resetting env. episode reward total was -21.000000. running mean: -21.000000\n",
      "ep 4: game finished, reward: -1.000000\n",
      "resetting env. episode reward total was -21.000000. running mean: -21.000000\n",
      "ep 5: game finished, reward: -1.000000\n",
      "resetting env. episode reward total was -21.000000. running mean: -21.000000\n",
      "ep 6: game finished, reward: -1.000000\n",
      "resetting env. episode reward total was -21.000000. running mean: -21.000000\n",
      "ep 7: game finished, reward: -1.000000\n",
      "resetting env. episode reward total was -21.000000. running mean: -21.000000\n",
      "ep 8: game finished, reward: -1.000000\n",
      "resetting env. episode reward total was -20.000000. running mean: -20.990000\n",
      "ep 9: game finished, reward: -1.000000\n",
      "resetting env. episode reward total was -21.000000. running mean: -20.990100\n",
      "ep 10: game finished, reward: -1.000000\n",
      "resetting env. episode reward total was -21.000000. running mean: -20.990199\n",
      "ep 11: game finished, reward: -1.000000\n"
     ]
    }
   ],
   "source": [
    "while True:\n",
    "  cur_x = prepro(observation)\n",
    "  x = cur_x - prev_x if prev_x is not None else np.zeros(D)\n",
    "  prev_x = cur_x\n",
    "  aprob, h = policy_forward(x)\n",
    "  action = 2 if np.random.uniform() < aprob else 3 # roll the dice!\n",
    "  xs.append(x) # observation\n",
    "  hs.append(h) # hidden state\n",
    "  y = 1 if action == 2 else 0 # a \"fake label\"\n",
    "  dlogps.append(y - aprob) # grad that encourages the action that was taken to be taken (see http://cs231n.github.io/neural-networks-2/#losses if confused)\n",
    "  env.render()\n",
    "  observation, reward, done, info = env.step(action)\n",
    "  reward_sum += reward\n",
    "\n",
    "  drs.append(reward) # record reward (has to be done after we call step() to get reward for previous action)\n",
    "\n",
    "  if done: # an episode finished\n",
    "    episode_number += 1\n",
    "    epx = np.vstack(xs) #obsveration\n",
    "    eph = np.vstack(hs) #hidden\n",
    "    epdlogp = np.vstack(dlogps) #gradient\n",
    "    epr = np.vstack(drs) #reward\n",
    "    xs,hs,dlogps,drs = [],[],[],[] # reset array memory\n",
    "\n",
    "    discounted_epr = discount_rewards(epr)\n",
    "    \n",
    "    discounted_epr -= np.mean(discounted_epr)\n",
    "    discounted_epr /= np.std(discounted_epr)\n",
    "\n",
    "    \n",
    "    epdlogp *= discounted_epr # modulate the gradient with advantage (PG magic happens right here.)\n",
    "    grad = policy_backward(eph, epdlogp)\n",
    "    for k in model: grad_buffer[k] += grad[k] # accumulate grad over batch\n",
    "\n",
    "    \n",
    "    if episode_number % batch_size == 0:\n",
    "        \n",
    "        for k,v in model.iteritems():\n",
    "            \n",
    "            g = grad_buffer[k] # gradient\n",
    "            rmsprop_cache[k] = decay_rate * rmsprop_cache[k] + (1 - decay_rate) * g**2\n",
    "            model[k] += learning_rate * g / (np.sqrt(rmsprop_cache[k]) + 1e-5)\n",
    "            grad_buffer[k] = np.zeros_like(v) # reset batch gradient buffer\n",
    "\n",
    "    \n",
    "    running_reward = reward_sum if running_reward is None else running_reward * 0.99 + reward_sum * 0.01\n",
    "    print('resetting env. episode reward total was %f. running mean: %f' % (reward_sum, running_reward))\n",
    "    if episode_number % 100 == 0: pickle.dump(model, open('save.p', 'wb'))\n",
    "    reward_sum = 0\n",
    "    observation = env.reset() # reset env\n",
    "    prev_x = None\n",
    "\n",
    "    if reward != 0:\n",
    "        # Pong has either +1 or -1 reward exactly when game ends.\n",
    "        print('ep %d: game finished, reward: %f' % (episode_number, reward)) + ('' if reward == -1 else ' !!!!!!!!')"
   ]
  },
  {
   "cell_type": "code",
   "execution_count": null,
   "metadata": {},
   "outputs": [],
   "source": []
  },
  {
   "cell_type": "code",
   "execution_count": null,
   "metadata": {},
   "outputs": [],
   "source": []
  },
  {
   "cell_type": "code",
   "execution_count": null,
   "metadata": {},
   "outputs": [],
   "source": []
  }
 ],
 "metadata": {
  "kernelspec": {
   "display_name": "Python 2",
   "language": "python",
   "name": "python2"
  },
  "language_info": {
   "codemirror_mode": {
    "name": "ipython",
    "version": 2
   },
   "file_extension": ".py",
   "mimetype": "text/x-python",
   "name": "python",
   "nbconvert_exporter": "python",
   "pygments_lexer": "ipython2",
   "version": "2.7.15"
  }
 },
 "nbformat": 4,
 "nbformat_minor": 2
}
